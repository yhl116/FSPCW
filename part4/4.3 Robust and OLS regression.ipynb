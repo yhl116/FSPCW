{
 "cells": [
  {
   "cell_type": "code",
   "execution_count": 4,
   "metadata": {},
   "outputs": [],
   "source": [
    "import pandas as pd\n",
    "import numpy as np\n",
    "import matplotlib.pyplot as plt\n",
    "import statsmodels.api as sm\n",
    "\n",
    "def compute_ret(df):\n",
    "    log_ret = df['Adj Close'].apply(np.log).diff().fillna(0).to_frame()\n",
    "    sim_ret = df['Adj Close'].pct_change().fillna(0).to_frame()\n",
    "    log_ret.columns = ['Log Ret']\n",
    "    sim_ret.columns = ['Simple Ret']\n",
    "    return pd.concat([df, log_ret, sim_ret], axis=1)\n",
    "\n",
    "df_aapl = pd.read_csv(r'AAPL.csv', index_col='Date').iloc[0:-4]\n",
    "df_aapl.index = pd.to_datetime(df_aapl.index, format='%Y-%m-%d')\n",
    "\n",
    "df_ibm = pd.read_csv(r'IBM.csv', index_col='Date').iloc[0:-4]\n",
    "df_ibm.index = pd.to_datetime(df_ibm.index, format='%Y-%m-%d')\n",
    "\n",
    "df_jpm = pd.read_csv(r'JPM.csv', index_col='Date').iloc[0:-4]\n",
    "df_jpm.index = pd.to_datetime(df_jpm.index, format='%Y-%m-%d')\n",
    "\n",
    "df_dji = pd.read_csv(r'DJI.csv', index_col='Date').iloc[0:-4]\n",
    "df_dji.index = pd.to_datetime(df_dji.index, format='%Y-%m-%d')\n",
    "\n",
    "df_aapl = compute_ret(df_aapl)\n",
    "df_ibm = compute_ret(df_ibm)\n",
    "df_jpm = compute_ret(df_jpm)\n",
    "df_dji = compute_ret(df_dji)"
   ]
  },
  {
   "cell_type": "code",
   "execution_count": 11,
   "metadata": {},
   "outputs": [],
   "source": [
    "#question1\n",
    "\n",
    "from sklearn.linear_model import LinearRegression\n",
    "\n",
    "def ols_linreg(X, y, y_norm):\n",
    "    X = sm.add_constant(X)\n",
    "    model = LinearRegression().fit(X, y)\n",
    "    score = model.score(X, y_norm)\n",
    "    return model, score\n",
    "\n",
    "def tabulate_res(aapl_reg, aapl_reg_score, ibm_reg, ibm_reg_score, jpm_reg, jpm_reg_score):\n",
    "    return pd.DataFrame({\n",
    "        'coef': [aapl_reg.coef_[1], ibm_reg.coef_[1], jpm_reg.coef_[1]], \n",
    "        'intercept': [aapl_reg.intercept_, ibm_reg.intercept_, jpm_reg.intercept_],\n",
    "        'score': [aapl_reg_score, ibm_reg_score, jpm_reg_score]\n",
    "    }, index=['AAPL', 'IBM', 'JPM'])"
   ]
  },
  {
   "cell_type": "code",
   "execution_count": 12,
   "metadata": {},
   "outputs": [
    {
     "name": "stderr",
     "output_type": "stream",
     "text": [
      "/Users/yeehonglow/Library/Python/3.7/lib/python/site-packages/numpy/core/fromnumeric.py:2495: FutureWarning: Method .ptp is deprecated and will be removed in a future version. Use numpy.ptp instead.\n",
      "  return ptp(axis=axis, out=out, **kwargs)\n",
      "/Users/yeehonglow/Library/Python/3.7/lib/python/site-packages/numpy/core/fromnumeric.py:2495: FutureWarning: Method .ptp is deprecated and will be removed in a future version. Use numpy.ptp instead.\n",
      "  return ptp(axis=axis, out=out, **kwargs)\n",
      "/Users/yeehonglow/Library/Python/3.7/lib/python/site-packages/numpy/core/fromnumeric.py:2495: FutureWarning: Method .ptp is deprecated and will be removed in a future version. Use numpy.ptp instead.\n",
      "  return ptp(axis=axis, out=out, **kwargs)\n"
     ]
    },
    {
     "data": {
      "text/html": [
       "<div>\n",
       "<style scoped>\n",
       "    .dataframe tbody tr th:only-of-type {\n",
       "        vertical-align: middle;\n",
       "    }\n",
       "\n",
       "    .dataframe tbody tr th {\n",
       "        vertical-align: top;\n",
       "    }\n",
       "\n",
       "    .dataframe thead th {\n",
       "        text-align: right;\n",
       "    }\n",
       "</style>\n",
       "<table border=\"1\" class=\"dataframe\">\n",
       "  <thead>\n",
       "    <tr style=\"text-align: right;\">\n",
       "      <th></th>\n",
       "      <th>coef</th>\n",
       "      <th>intercept</th>\n",
       "      <th>score</th>\n",
       "    </tr>\n",
       "  </thead>\n",
       "  <tbody>\n",
       "    <tr>\n",
       "      <th>AAPL</th>\n",
       "      <td>1.327464</td>\n",
       "      <td>0.000047</td>\n",
       "      <td>0.518874</td>\n",
       "    </tr>\n",
       "    <tr>\n",
       "      <th>IBM</th>\n",
       "      <td>0.961929</td>\n",
       "      <td>-0.000468</td>\n",
       "      <td>0.418597</td>\n",
       "    </tr>\n",
       "    <tr>\n",
       "      <th>JPM</th>\n",
       "      <td>0.930549</td>\n",
       "      <td>-0.000377</td>\n",
       "      <td>0.556493</td>\n",
       "    </tr>\n",
       "  </tbody>\n",
       "</table>\n",
       "</div>"
      ],
      "text/plain": [
       "          coef  intercept     score\n",
       "AAPL  1.327464   0.000047  0.518874\n",
       "IBM   0.961929  -0.000468  0.418597\n",
       "JPM   0.930549  -0.000377  0.556493"
      ]
     },
     "execution_count": 12,
     "metadata": {},
     "output_type": "execute_result"
    }
   ],
   "source": [
    "aapl_linreg, aapl_linreg_score = ols_linreg(df_dji.iloc[1:]['Simple Ret'], df_aapl.iloc[1:]['Simple Ret'], df_aapl.iloc[1:]['Simple Ret'])\n",
    "ibm_linreg, ibm_linreg_score = ols_linreg(df_dji.iloc[1:]['Simple Ret'], df_ibm.iloc[1:]['Simple Ret'], df_ibm.iloc[1:]['Simple Ret'])\n",
    "jpm_linreg, jpm_linreg_score = ols_linreg(df_dji.iloc[1:]['Simple Ret'], df_jpm.iloc[1:]['Simple Ret'], df_jpm.iloc[1:]['Simple Ret'])\n",
    "\n",
    "lin_reg_res = tabulate_res(aapl_linreg, aapl_linreg_score, ibm_linreg, ibm_linreg_score, jpm_linreg, jpm_linreg_score)\n",
    "lin_reg_res"
   ]
  },
  {
   "cell_type": "code",
   "execution_count": 13,
   "metadata": {},
   "outputs": [
    {
     "name": "stderr",
     "output_type": "stream",
     "text": [
      "/Users/yeehonglow/Library/Python/3.7/lib/python/site-packages/numpy/core/fromnumeric.py:2495: FutureWarning: Method .ptp is deprecated and will be removed in a future version. Use numpy.ptp instead.\n",
      "  return ptp(axis=axis, out=out, **kwargs)\n",
      "/Users/yeehonglow/Library/Python/3.7/lib/python/site-packages/numpy/core/fromnumeric.py:2495: FutureWarning: Method .ptp is deprecated and will be removed in a future version. Use numpy.ptp instead.\n",
      "  return ptp(axis=axis, out=out, **kwargs)\n",
      "/Users/yeehonglow/Library/Python/3.7/lib/python/site-packages/numpy/core/fromnumeric.py:2495: FutureWarning: Method .ptp is deprecated and will be removed in a future version. Use numpy.ptp instead.\n",
      "  return ptp(axis=axis, out=out, **kwargs)\n"
     ]
    },
    {
     "data": {
      "text/html": [
       "<div>\n",
       "<style scoped>\n",
       "    .dataframe tbody tr th:only-of-type {\n",
       "        vertical-align: middle;\n",
       "    }\n",
       "\n",
       "    .dataframe tbody tr th {\n",
       "        vertical-align: top;\n",
       "    }\n",
       "\n",
       "    .dataframe thead th {\n",
       "        text-align: right;\n",
       "    }\n",
       "</style>\n",
       "<table border=\"1\" class=\"dataframe\">\n",
       "  <thead>\n",
       "    <tr style=\"text-align: right;\">\n",
       "      <th></th>\n",
       "      <th>coef</th>\n",
       "      <th>intercept</th>\n",
       "      <th>score</th>\n",
       "    </tr>\n",
       "  </thead>\n",
       "  <tbody>\n",
       "    <tr>\n",
       "      <th>AAPL</th>\n",
       "      <td>1.272508</td>\n",
       "      <td>-0.000136</td>\n",
       "      <td>0.517697</td>\n",
       "    </tr>\n",
       "    <tr>\n",
       "      <th>IBM</th>\n",
       "      <td>0.976089</td>\n",
       "      <td>-0.000266</td>\n",
       "      <td>0.418488</td>\n",
       "    </tr>\n",
       "    <tr>\n",
       "      <th>JPM</th>\n",
       "      <td>0.918433</td>\n",
       "      <td>-0.000439</td>\n",
       "      <td>0.554913</td>\n",
       "    </tr>\n",
       "  </tbody>\n",
       "</table>\n",
       "</div>"
      ],
      "text/plain": [
       "          coef  intercept     score\n",
       "AAPL  1.272508  -0.000136  0.517697\n",
       "IBM   0.976089  -0.000266  0.418488\n",
       "JPM   0.918433  -0.000439  0.554913"
      ]
     },
     "execution_count": 13,
     "metadata": {},
     "output_type": "execute_result"
    }
   ],
   "source": [
    "#question 2\n",
    "from sklearn.linear_model import HuberRegressor\n",
    "\n",
    "def huber_linreg(X, y, y_norm, epsilon=1.35):\n",
    "    X = sm.add_constant(X)\n",
    "    # epsilon, parameter that controls the number of samples that \n",
    "    # should be classified as outliers. The smaller the epsilon, the \n",
    "    # more robust it is to outliers\n",
    "    model = HuberRegressor(epsilon=epsilon).fit(X, y)\n",
    "    score = model.score(X, y_norm)\n",
    "    return model, score\n",
    "\n",
    "aapl_huber_reg, aapl_huber_score = huber_linreg(df_dji['Simple Ret'], df_aapl['Simple Ret'], df_aapl['Simple Ret'], epsilon=1.35)\n",
    "ibm_huber_reg, ibm_huber_score = huber_linreg(df_dji['Simple Ret'], df_ibm['Simple Ret'], df_ibm['Simple Ret'], epsilon=1.35)\n",
    "jpm_huber_reg, jpm_huber_score = huber_linreg(df_dji['Simple Ret'], df_jpm['Simple Ret'], df_jpm['Simple Ret'], epsilon=1.35)\n",
    "\n",
    "huber_reg_res = tabulate_res(aapl_huber_reg, aapl_huber_score, ibm_huber_reg, ibm_huber_score, jpm_huber_reg, jpm_huber_score)\n",
    "huber_reg_res"
   ]
  },
  {
   "cell_type": "code",
   "execution_count": 15,
   "metadata": {},
   "outputs": [
    {
     "ename": "NameError",
     "evalue": "name 'df_abn_aapl' is not defined",
     "output_type": "error",
     "traceback": [
      "\u001b[0;31m---------------------------------------------------------------------------\u001b[0m",
      "\u001b[0;31mNameError\u001b[0m                                 Traceback (most recent call last)",
      "\u001b[0;32m<ipython-input-15-7be58abcfbcf>\u001b[0m in \u001b[0;36m<module>\u001b[0;34m\u001b[0m\n\u001b[1;32m      7\u001b[0m     \u001b[0;32mreturn\u001b[0m \u001b[0mpd\u001b[0m\u001b[0;34m.\u001b[0m\u001b[0mconcat\u001b[0m\u001b[0;34m(\u001b[0m\u001b[0;34m[\u001b[0m\u001b[0mdf\u001b[0m\u001b[0;34m,\u001b[0m \u001b[0mlog_ret\u001b[0m\u001b[0;34m,\u001b[0m \u001b[0msim_ret\u001b[0m\u001b[0;34m]\u001b[0m\u001b[0;34m,\u001b[0m \u001b[0maxis\u001b[0m\u001b[0;34m=\u001b[0m\u001b[0;36m1\u001b[0m\u001b[0;34m)\u001b[0m\u001b[0;34m\u001b[0m\u001b[0;34m\u001b[0m\u001b[0m\n\u001b[1;32m      8\u001b[0m \u001b[0;34m\u001b[0m\u001b[0m\n\u001b[0;32m----> 9\u001b[0;31m \u001b[0mdf_abn_aapl\u001b[0m \u001b[0;34m=\u001b[0m \u001b[0mcombine_abn_ret\u001b[0m\u001b[0;34m(\u001b[0m\u001b[0mdf_abn_aapl\u001b[0m\u001b[0;34m)\u001b[0m\u001b[0;34m\u001b[0m\u001b[0;34m\u001b[0m\u001b[0m\n\u001b[0m\u001b[1;32m     10\u001b[0m \u001b[0mdf_abn_ibm\u001b[0m \u001b[0;34m=\u001b[0m \u001b[0mcombine_abn_ret\u001b[0m\u001b[0;34m(\u001b[0m\u001b[0mdf_abn_ibm\u001b[0m\u001b[0;34m)\u001b[0m\u001b[0;34m\u001b[0m\u001b[0;34m\u001b[0m\u001b[0m\n\u001b[1;32m     11\u001b[0m \u001b[0mdf_abn_jpm\u001b[0m \u001b[0;34m=\u001b[0m \u001b[0mcombine_abn_ret\u001b[0m\u001b[0;34m(\u001b[0m\u001b[0mdf_abn_jpm\u001b[0m\u001b[0;34m)\u001b[0m\u001b[0;34m\u001b[0m\u001b[0;34m\u001b[0m\u001b[0m\n",
      "\u001b[0;31mNameError\u001b[0m: name 'df_abn_aapl' is not defined"
     ]
    }
   ],
   "source": [
    "def combine_abn_ret(df):\n",
    "    df = df.copy()\n",
    "    log_ret = df['Adj Close'].apply(np.log).diff().fillna(0).to_frame()\n",
    "    sim_ret = df['Adj Close'].pct_change().fillna(0).to_frame()\n",
    "    log_ret.columns = ['Abn Log Ret']\n",
    "    sim_ret.columns = ['Abn Simple Ret']\n",
    "    return pd.concat([df, log_ret, sim_ret], axis=1)\n",
    "\n",
    "df_abn_aapl = combine_abn_ret(df_abn_aapl)\n",
    "df_abn_ibm = combine_abn_ret(df_abn_ibm)\n",
    "df_abn_jpm = combine_abn_ret(df_abn_jpm)"
   ]
  },
  {
   "cell_type": "code",
   "execution_count": null,
   "metadata": {},
   "outputs": [],
   "source": []
  }
 ],
 "metadata": {
  "kernelspec": {
   "display_name": "Python 3",
   "language": "python",
   "name": "python3"
  },
  "language_info": {
   "codemirror_mode": {
    "name": "ipython",
    "version": 3
   },
   "file_extension": ".py",
   "mimetype": "text/x-python",
   "name": "python",
   "nbconvert_exporter": "python",
   "pygments_lexer": "ipython3",
   "version": "3.7.3"
  }
 },
 "nbformat": 4,
 "nbformat_minor": 2
}
